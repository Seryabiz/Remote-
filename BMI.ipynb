{
 "cells": [
  {
   "cell_type": "markdown",
   "id": "bbb7bde7-04f6-43a3-85aa-008bf31afb91",
   "metadata": {},
   "source": [
    "# BMI Report"
   ]
  },
  {
   "cell_type": "code",
   "execution_count": 2,
   "id": "68611283-8c09-497b-93e0-ec870839b4cd",
   "metadata": {},
   "outputs": [
    {
     "name": "stdout",
     "output_type": "stream",
     "text": [
      "Welcome! This is a BMI calculator\n"
     ]
    },
    {
     "name": "stdin",
     "output_type": "stream",
     "text": [
      "Kindly enter your name Seryabiz\n",
      "Kindly enter your height in meters 1.8\n",
      "Kindly enter your weight in kgs 75\n"
     ]
    },
    {
     "name": "stdout",
     "output_type": "stream",
     "text": [
      "Hello Seryabiz. Thank you for using our BMI calculator. Your BMI is 23.148148148148145. This shows you are Normal\n"
     ]
    }
   ],
   "source": [
    "print(\"Welcome! This is a BMI calculator\")\n",
    "def BMI(Height, Weight):\n",
    "    BMI = Weight/(Height*Height)\n",
    "    report = None\n",
    "    if BMI >= 25:\n",
    "        report = 'Overweight'\n",
    "    elif 20 < BMI < 25:\n",
    "        report = \"Normal\"\n",
    "    else:\n",
    "        report = \"Underweight\"\n",
    "    return f'Your BMI is {BMI}. This shows you are {report}'\n",
    "Name = input('Kindly enter your name')\n",
    "Height = float(input('Kindly enter your height in meters'))\n",
    "Weight = float(input(\"Kindly enter your weight in kgs\"))\n",
    "print(f\"Hello {Name}. Thank you for using our BMI calculator. {BMI(Height,Weight)}\")"
   ]
  },
  {
   "cell_type": "code",
   "execution_count": null,
   "id": "6125c06b-3db7-444f-8d53-85e151d05812",
   "metadata": {},
   "outputs": [],
   "source": []
  }
 ],
 "metadata": {
  "kernelspec": {
   "display_name": "Python 3 (ipykernel)",
   "language": "python",
   "name": "python3"
  },
  "language_info": {
   "codemirror_mode": {
    "name": "ipython",
    "version": 3
   },
   "file_extension": ".py",
   "mimetype": "text/x-python",
   "name": "python",
   "nbconvert_exporter": "python",
   "pygments_lexer": "ipython3",
   "version": "3.11.7"
  }
 },
 "nbformat": 4,
 "nbformat_minor": 5
}
